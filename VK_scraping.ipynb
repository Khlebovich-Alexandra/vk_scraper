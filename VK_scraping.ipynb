{
 "cells": [
  {
   "cell_type": "code",
   "execution_count": null,
   "metadata": {},
   "outputs": [],
   "source": [
    "import pandas as pd\n",
    "from comment_scraper import CreateAPI, GetInformationFromVk\n",
    "\n",
    "import warnings\n",
    "warnings.filterwarnings('ignore')"
   ]
  },
  {
   "cell_type": "markdown",
   "metadata": {},
   "source": [
    "Для начала следует ***пройти авторизацию***. Существует 2 способа:\n",
    "1. С помощью логина и пароля. Очень простой и небезопасный способ\n",
    "2. С помощью токена. С ним придётся немного повозиться"
   ]
  },
  {
   "cell_type": "markdown",
   "metadata": {},
   "source": [
    "Если вы выбрали **первый способ** воспользуйтесь следующим кодом предварительно изменив переменные login и password:"
   ]
  },
  {
   "cell_type": "code",
   "execution_count": null,
   "metadata": {},
   "outputs": [],
   "source": [
    "login = 'your login'\n",
    "password = 'your password'\n",
    "\n",
    "creator = CreateAPI()\n",
    "api = creator.create_using_login_password(login, password)"
   ]
  },
  {
   "cell_type": "markdown",
   "metadata": {},
   "source": [
    "Если вы выбрали **второй способ**, то:\n",
    "    \n",
    "Запустите следующий код, вас перекинет на новую вкладку. Скопируйте адрес этой страницы и возвращайтесь обратно"
   ]
  },
  {
   "cell_type": "code",
   "execution_count": null,
   "metadata": {},
   "outputs": [],
   "source": [
    "creator = CreateAPI()\n",
    "creator.get_tocken()"
   ]
  },
  {
   "cell_type": "markdown",
   "metadata": {},
   "source": [
    "Вставьте скопированную вами ссылку в переменную tocken, заключа её в ковычки и запустите код ниже:"
   ]
  },
  {
   "cell_type": "code",
   "execution_count": null,
   "metadata": {},
   "outputs": [],
   "source": [
    "tocken = 'tocken'\n",
    "api = creator.create_using_tocken(tocken)"
   ]
  },
  {
   "cell_type": "markdown",
   "metadata": {},
   "source": [
    "Чтобы проверить правильность создания API можете запустить следующий код:"
   ]
  },
  {
   "cell_type": "code",
   "execution_count": null,
   "metadata": {
    "scrolled": true
   },
   "outputs": [],
   "source": [
    "api.users.get(user_id=1)"
   ]
  },
  {
   "cell_type": "markdown",
   "metadata": {},
   "source": [
    "Вы увидели информацию о Павле Дурове, создателю ВКонтакте :)"
   ]
  },
  {
   "cell_type": "markdown",
   "metadata": {},
   "source": [
    "Теперь приступим к главной задаче - скрапингу комментариев"
   ]
  },
  {
   "cell_type": "markdown",
   "metadata": {},
   "source": [
    "Занесите в переменную ***domains*** домены групп из которых вы хотете скрапить. \n",
    "Например: в адресе https://vk.com/includefpmi доменом будет являтся *includefpmi*"
   ]
  },
  {
   "cell_type": "code",
   "execution_count": null,
   "metadata": {},
   "outputs": [],
   "source": [
    "domains = ['habr', 'forbes', 'materiality_info', 'indulgencia']"
   ]
  },
  {
   "cell_type": "markdown",
   "metadata": {},
   "source": [
    "Запустите следующий код исправляя аргументы функции под свои нужды.\n",
    "\n",
    "Установлены значеня по умолчанию.\n",
    "\n",
    "Значения аргументов:\n",
    "* number_of_posts - количество постов для скрапинга в каждой из групп\n",
    "* number_of_coments_in_post - количество комментариев для скрапинга в кадждом из постов. Ответы на комменатрии не считаются. Если задано число, большее чем количество комментариев - берутся все комментарии\n",
    "* with_thread - нужно ли скрапить ответы на комментарии"
   ]
  },
  {
   "cell_type": "code",
   "execution_count": null,
   "metadata": {},
   "outputs": [],
   "source": [
    "getter = GetInformationFromVk(api)\n",
    "df = getter.get_comments(domains, \n",
    "                         number_of_posts=10,\n",
    "                         number_of_coments_in_post=20,\n",
    "                         with_thread=True)"
   ]
  },
  {
   "cell_type": "markdown",
   "metadata": {},
   "source": [
    "В переменной df хранится датафрэйм с вашими комментариями :)\n",
    "\n",
    "Можем сохранить их в .csv для дальнейшего использования:"
   ]
  },
  {
   "cell_type": "code",
   "execution_count": null,
   "metadata": {},
   "outputs": [],
   "source": [
    "df.to_csv('comments_from_vk.csv')"
   ]
  },
  {
   "cell_type": "markdown",
   "metadata": {},
   "source": [
    "Расскажу про столбцы в полученной таблице:\n",
    "* attachments - прикрепления к комментарию. Например: фото, видео, стикер\n",
    "* date - дата создания комментария в формате Unixtime\n",
    "* deleted - удалён ли\n",
    "* group - домен группы из которой был взят комментариц\n",
    "* id_comment - id комментария\n",
    "* id_user - id  пользователя(сообщества), который оставил этот комментарий\n",
    "* likes - количество лайков на комметарии\n",
    "* parrents_stack - массив идентификаторов родительских комментариев\n",
    "* post_id - id поста, к которму оставлен комментарий\n",
    "* reply_to_comment - идентификатор комментария, в ответ на который оставлен текущий\n",
    "* reply_to_user - идентификатор пользователя или сообщества, в ответ которому оставлен текущий комментарий\n",
    "* text - текст комментария\n",
    "* post_text - текст поста, к которому оставлен комментарий\n",
    "\n",
    "Все NaN значения - отсутствие в данном комментарии"
   ]
  },
  {
   "cell_type": "code",
   "execution_count": null,
   "metadata": {
    "scrolled": true
   },
   "outputs": [],
   "source": [
    "df.head()"
   ]
  }
 ],
 "metadata": {
  "kernelspec": {
   "display_name": "Python 3",
   "language": "python",
   "name": "python3"
  },
  "language_info": {
   "codemirror_mode": {
    "name": "ipython",
    "version": 3
   },
   "file_extension": ".py",
   "mimetype": "text/x-python",
   "name": "python",
   "nbconvert_exporter": "python",
   "pygments_lexer": "ipython3",
   "version": "3.6.5"
  }
 },
 "nbformat": 4,
 "nbformat_minor": 2
}
